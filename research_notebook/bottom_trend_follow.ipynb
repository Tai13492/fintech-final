{
 "cells": [
  {
   "cell_type": "code",
   "execution_count": 2,
   "metadata": {},
   "outputs": [
    {
     "name": "stdout",
     "output_type": "stream",
     "text": [
      "<client.db_client.DBClient object at 0x7f1accea0f60>\n",
      "downloading BTC/USD data on bitmex\n",
      "downloading 2019-12-26 23:32:30 ~ 2019-12-26 23:36:32.317628 data\n",
      "100.0% completed\n"
     ]
    }
   ],
   "source": [
    "import research_kit"
   ]
  }
 ],
 "metadata": {
  "kernelspec": {
   "display_name": "Python 3",
   "language": "python",
   "name": "python3"
  }
 },
 "nbformat": 4,
 "nbformat_minor": 2
}
